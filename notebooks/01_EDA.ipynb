{
 "cells": [
  {
   "cell_type": "markdown",
   "id": "d5e1bba6",
   "metadata": {},
   "source": [
    "# 1. Exploratory Data Analysis (EDA)\n",
    "\n",
    "Objetivo: entender la estructura, calidad y patrones de los datos antes de procesarlos.\n",
    "\n",
    "Aquí haremos:\n",
    "- Eliminación de duplicados ✅ (siguiente paso: 1.3)\n",
    "- Análisis de valores nulos\n",
    "- Estadísticas por serie\n",
    "- Visualización de series representativas\n",
    "- Tendencias y estacionalidades básicas"
   ]
  },
  {
   "cell_type": "markdown",
   "id": "3e83e0fc",
   "metadata": {},
   "source": [
    "## 1.1 Load Data"
   ]
  },
  {
   "cell_type": "code",
   "execution_count": 108,
   "id": "4c9584a6",
   "metadata": {},
   "outputs": [],
   "source": [
    "# Libraries\n",
    "# -- Stdlib & setup\n",
    "import os, sys, warnings, json, re\n",
    "from pathlib import Path\n",
    "from datetime import datetime\n",
    "warnings.filterwarnings(\"ignore\")\n",
    "# -- Ciencia de datos base\n",
    "import numpy as np\n",
    "import pandas as pd\n",
    "from scipy import stats as ss\n",
    "# -- Visualización\n",
    "import matplotlib.pyplot as plt\n",
    "import seaborn as sns\n",
    "# --- Interactivas (opcional; idk si las usaremos pero jic)\n",
    "import plotly.express as px\n",
    "import plotly.graph_objects as go\n",
    "# -- Utilidades\n",
    "from IPython.display import display\n",
    "from tqdm import tqdm\n",
    "import joblib"
   ]
  },
  {
   "cell_type": "code",
   "execution_count": 109,
   "id": "aa6916d4",
   "metadata": {},
   "outputs": [],
   "source": [
    "raw = pd.read_csv(\"../data/train_timeseries.csv\")\n",
    "df0 = raw.copy() # copia de seguridad"
   ]
  },
  {
   "cell_type": "markdown",
   "id": "e74957fa",
   "metadata": {},
   "source": [
    "## 1.2 STRUCTURE"
   ]
  },
  {
   "cell_type": "code",
   "execution_count": 110,
   "id": "fdb7b315",
   "metadata": {},
   "outputs": [
    {
     "data": {
      "text/html": [
       "<div>\n",
       "<style scoped>\n",
       "    .dataframe tbody tr th:only-of-type {\n",
       "        vertical-align: middle;\n",
       "    }\n",
       "\n",
       "    .dataframe tbody tr th {\n",
       "        vertical-align: top;\n",
       "    }\n",
       "\n",
       "    .dataframe thead th {\n",
       "        text-align: right;\n",
       "    }\n",
       "</style>\n",
       "<table border=\"1\" class=\"dataframe\">\n",
       "  <thead>\n",
       "    <tr style=\"text-align: right;\">\n",
       "      <th></th>\n",
       "      <th>Unnamed: 0</th>\n",
       "      <th>date</th>\n",
       "      <th>unique_id</th>\n",
       "      <th>city_id</th>\n",
       "      <th>shop_id</th>\n",
       "      <th>item_category_id</th>\n",
       "      <th>item_id</th>\n",
       "      <th>monthly_average_price</th>\n",
       "      <th>monthly_sales</th>\n",
       "    </tr>\n",
       "  </thead>\n",
       "  <tbody>\n",
       "    <tr>\n",
       "      <th>0</th>\n",
       "      <td>0</td>\n",
       "      <td>2013-01-31</td>\n",
       "      <td>12_11365</td>\n",
       "      <td>16</td>\n",
       "      <td>12</td>\n",
       "      <td>9</td>\n",
       "      <td>11365</td>\n",
       "      <td>1511.512626</td>\n",
       "      <td>30.0</td>\n",
       "    </tr>\n",
       "    <tr>\n",
       "      <th>1</th>\n",
       "      <td>1</td>\n",
       "      <td>2013-01-31</td>\n",
       "      <td>12_11369</td>\n",
       "      <td>16</td>\n",
       "      <td>12</td>\n",
       "      <td>9</td>\n",
       "      <td>11369</td>\n",
       "      <td>572.715278</td>\n",
       "      <td>30.0</td>\n",
       "    </tr>\n",
       "    <tr>\n",
       "      <th>2</th>\n",
       "      <td>2</td>\n",
       "      <td>2013-01-31</td>\n",
       "      <td>12_11370</td>\n",
       "      <td>16</td>\n",
       "      <td>12</td>\n",
       "      <td>9</td>\n",
       "      <td>11370</td>\n",
       "      <td>699.776786</td>\n",
       "      <td>30.0</td>\n",
       "    </tr>\n",
       "    <tr>\n",
       "      <th>3</th>\n",
       "      <td>3</td>\n",
       "      <td>2013-01-31</td>\n",
       "      <td>12_11373</td>\n",
       "      <td>16</td>\n",
       "      <td>12</td>\n",
       "      <td>9</td>\n",
       "      <td>11373</td>\n",
       "      <td>548.900000</td>\n",
       "      <td>6.0</td>\n",
       "    </tr>\n",
       "    <tr>\n",
       "      <th>4</th>\n",
       "      <td>4</td>\n",
       "      <td>2013-01-31</td>\n",
       "      <td>12_12231</td>\n",
       "      <td>16</td>\n",
       "      <td>12</td>\n",
       "      <td>49</td>\n",
       "      <td>12231</td>\n",
       "      <td>350.000000</td>\n",
       "      <td>3.0</td>\n",
       "    </tr>\n",
       "  </tbody>\n",
       "</table>\n",
       "</div>"
      ],
      "text/plain": [
       "   Unnamed: 0        date unique_id  city_id  shop_id  item_category_id  \\\n",
       "0           0  2013-01-31  12_11365       16       12                 9   \n",
       "1           1  2013-01-31  12_11369       16       12                 9   \n",
       "2           2  2013-01-31  12_11370       16       12                 9   \n",
       "3           3  2013-01-31  12_11373       16       12                 9   \n",
       "4           4  2013-01-31  12_12231       16       12                49   \n",
       "\n",
       "   item_id  monthly_average_price  monthly_sales  \n",
       "0    11365            1511.512626           30.0  \n",
       "1    11369             572.715278           30.0  \n",
       "2    11370             699.776786           30.0  \n",
       "3    11373             548.900000            6.0  \n",
       "4    12231             350.000000            3.0  "
      ]
     },
     "execution_count": 110,
     "metadata": {},
     "output_type": "execute_result"
    }
   ],
   "source": [
    "df0.head() # vista general rápida"
   ]
  },
  {
   "cell_type": "code",
   "execution_count": 111,
   "id": "f2227ef4",
   "metadata": {},
   "outputs": [
    {
     "data": {
      "text/plain": [
       "(14484, 9)"
      ]
     },
     "execution_count": 111,
     "metadata": {},
     "output_type": "execute_result"
    }
   ],
   "source": [
    "df0.shape # dimensión"
   ]
  },
  {
   "cell_type": "code",
   "execution_count": 112,
   "id": "14421130",
   "metadata": {},
   "outputs": [
    {
     "data": {
      "text/plain": [
       "['Unnamed: 0',\n",
       " 'date',\n",
       " 'unique_id',\n",
       " 'city_id',\n",
       " 'shop_id',\n",
       " 'item_category_id',\n",
       " 'item_id',\n",
       " 'monthly_average_price',\n",
       " 'monthly_sales']"
      ]
     },
     "execution_count": 112,
     "metadata": {},
     "output_type": "execute_result"
    }
   ],
   "source": [
    "list(df0.columns) # column list"
   ]
  },
  {
   "cell_type": "code",
   "execution_count": 113,
   "id": "3a893277",
   "metadata": {},
   "outputs": [
    {
     "data": {
      "text/plain": [
       "<bound method DataFrame.info of        Unnamed: 0        date unique_id  city_id  shop_id  item_category_id  \\\n",
       "0               0  2013-01-31  12_11365       16       12                 9   \n",
       "1               1  2013-01-31  12_11369       16       12                 9   \n",
       "2               2  2013-01-31  12_11370       16       12                 9   \n",
       "3               3  2013-01-31  12_11373       16       12                 9   \n",
       "4               4  2013-01-31  12_12231       16       12                49   \n",
       "...           ...         ...       ...      ...      ...               ...   \n",
       "14479       14479  2015-10-31    7_5822       21        7                35   \n",
       "14480       14480  2015-10-31    7_6185       21        7                30   \n",
       "14481       14481  2015-10-31    7_6497       21        7                28   \n",
       "14482       14482  2015-10-31    7_7856       21        7                28   \n",
       "14483       14483  2015-10-31    7_7893       21        7                 6   \n",
       "\n",
       "       item_id  monthly_average_price  monthly_sales  \n",
       "0        11365            1511.512626           30.0  \n",
       "1        11369             572.715278           30.0  \n",
       "2        11370             699.776786           30.0  \n",
       "3        11373             548.900000            6.0  \n",
       "4        12231             350.000000            3.0  \n",
       "...        ...                    ...            ...  \n",
       "14479     5822                    NaN            NaN  \n",
       "14480     6185                    NaN            NaN  \n",
       "14481     6497                    NaN            NaN  \n",
       "14482     7856                    NaN            NaN  \n",
       "14483     7893                    NaN            NaN  \n",
       "\n",
       "[14484 rows x 9 columns]>"
      ]
     },
     "execution_count": 113,
     "metadata": {},
     "output_type": "execute_result"
    }
   ],
   "source": [
    "df0.info # info tipos y nulos"
   ]
  },
  {
   "cell_type": "code",
   "execution_count": 114,
   "id": "1c6a5828",
   "metadata": {},
   "outputs": [
    {
     "data": {
      "text/plain": [
       "Unnamed: 0                 int64\n",
       "date                      object\n",
       "unique_id                 object\n",
       "city_id                    int64\n",
       "shop_id                    int64\n",
       "item_category_id           int64\n",
       "item_id                    int64\n",
       "monthly_average_price    float64\n",
       "monthly_sales            float64\n",
       "dtype: object"
      ]
     },
     "execution_count": 114,
     "metadata": {},
     "output_type": "execute_result"
    }
   ],
   "source": [
    "df0.dtypes # info tipo por columna"
   ]
  },
  {
   "cell_type": "code",
   "execution_count": 115,
   "id": "6f3e6f27",
   "metadata": {},
   "outputs": [
    {
     "data": {
      "text/plain": [
       "int64      5\n",
       "object     2\n",
       "float64    2\n",
       "Name: count, dtype: int64"
      ]
     },
     "execution_count": 115,
     "metadata": {},
     "output_type": "execute_result"
    }
   ],
   "source": [
    "df0.dtypes.value_counts() # info columnas por tipo"
   ]
  },
  {
   "cell_type": "code",
   "execution_count": 116,
   "id": "68eee76a",
   "metadata": {},
   "outputs": [
    {
     "data": {
      "text/plain": [
       "array([ True, False, False, False, False, False, False, False, False])"
      ]
     },
     "execution_count": 116,
     "metadata": {},
     "output_type": "execute_result"
    }
   ],
   "source": [
    "df0.columns.str.contains('Unnamed') # columnas que contienen 'Unnamed'"
   ]
  },
  {
   "cell_type": "code",
   "execution_count": 117,
   "id": "115f63da",
   "metadata": {},
   "outputs": [
    {
     "data": {
      "text/html": [
       "<div>\n",
       "<style scoped>\n",
       "    .dataframe tbody tr th:only-of-type {\n",
       "        vertical-align: middle;\n",
       "    }\n",
       "\n",
       "    .dataframe tbody tr th {\n",
       "        vertical-align: top;\n",
       "    }\n",
       "\n",
       "    .dataframe thead th {\n",
       "        text-align: right;\n",
       "    }\n",
       "</style>\n",
       "<table border=\"1\" class=\"dataframe\">\n",
       "  <thead>\n",
       "    <tr style=\"text-align: right;\">\n",
       "      <th></th>\n",
       "      <th>count</th>\n",
       "      <th>mean</th>\n",
       "      <th>std</th>\n",
       "      <th>min</th>\n",
       "      <th>25%</th>\n",
       "      <th>50%</th>\n",
       "      <th>75%</th>\n",
       "      <th>max</th>\n",
       "    </tr>\n",
       "  </thead>\n",
       "  <tbody>\n",
       "    <tr>\n",
       "      <th>Unnamed: 0</th>\n",
       "      <td>14484.0</td>\n",
       "      <td>7241.500000</td>\n",
       "      <td>4181.314985</td>\n",
       "      <td>0.000000</td>\n",
       "      <td>3620.75</td>\n",
       "      <td>7241.5</td>\n",
       "      <td>10862.25</td>\n",
       "      <td>14483.000000</td>\n",
       "    </tr>\n",
       "    <tr>\n",
       "      <th>city_id</th>\n",
       "      <td>14484.0</td>\n",
       "      <td>10.833333</td>\n",
       "      <td>6.227364</td>\n",
       "      <td>0.000000</td>\n",
       "      <td>7.00</td>\n",
       "      <td>7.0</td>\n",
       "      <td>16.00</td>\n",
       "      <td>23.000000</td>\n",
       "    </tr>\n",
       "    <tr>\n",
       "      <th>shop_id</th>\n",
       "      <td>14484.0</td>\n",
       "      <td>31.967136</td>\n",
       "      <td>15.236351</td>\n",
       "      <td>3.000000</td>\n",
       "      <td>22.00</td>\n",
       "      <td>31.0</td>\n",
       "      <td>44.00</td>\n",
       "      <td>59.000000</td>\n",
       "    </tr>\n",
       "    <tr>\n",
       "      <th>item_category_id</th>\n",
       "      <td>14484.0</td>\n",
       "      <td>39.356808</td>\n",
       "      <td>20.439654</td>\n",
       "      <td>2.000000</td>\n",
       "      <td>30.00</td>\n",
       "      <td>35.0</td>\n",
       "      <td>55.00</td>\n",
       "      <td>83.000000</td>\n",
       "    </tr>\n",
       "    <tr>\n",
       "      <th>item_id</th>\n",
       "      <td>14484.0</td>\n",
       "      <td>8626.431925</td>\n",
       "      <td>5905.273346</td>\n",
       "      <td>32.000000</td>\n",
       "      <td>4248.00</td>\n",
       "      <td>6457.0</td>\n",
       "      <td>12551.00</td>\n",
       "      <td>22088.000000</td>\n",
       "    </tr>\n",
       "    <tr>\n",
       "      <th>monthly_average_price</th>\n",
       "      <td>13262.0</td>\n",
       "      <td>916.089314</td>\n",
       "      <td>820.945949</td>\n",
       "      <td>4.928571</td>\n",
       "      <td>299.00</td>\n",
       "      <td>649.0</td>\n",
       "      <td>1149.00</td>\n",
       "      <td>9305.121212</td>\n",
       "    </tr>\n",
       "    <tr>\n",
       "      <th>monthly_sales</th>\n",
       "      <td>13756.0</td>\n",
       "      <td>7.337889</td>\n",
       "      <td>7.915032</td>\n",
       "      <td>0.000000</td>\n",
       "      <td>2.00</td>\n",
       "      <td>5.0</td>\n",
       "      <td>9.00</td>\n",
       "      <td>30.000000</td>\n",
       "    </tr>\n",
       "  </tbody>\n",
       "</table>\n",
       "</div>"
      ],
      "text/plain": [
       "                         count         mean          std        min      25%  \\\n",
       "Unnamed: 0             14484.0  7241.500000  4181.314985   0.000000  3620.75   \n",
       "city_id                14484.0    10.833333     6.227364   0.000000     7.00   \n",
       "shop_id                14484.0    31.967136    15.236351   3.000000    22.00   \n",
       "item_category_id       14484.0    39.356808    20.439654   2.000000    30.00   \n",
       "item_id                14484.0  8626.431925  5905.273346  32.000000  4248.00   \n",
       "monthly_average_price  13262.0   916.089314   820.945949   4.928571   299.00   \n",
       "monthly_sales          13756.0     7.337889     7.915032   0.000000     2.00   \n",
       "\n",
       "                          50%       75%           max  \n",
       "Unnamed: 0             7241.5  10862.25  14483.000000  \n",
       "city_id                   7.0     16.00     23.000000  \n",
       "shop_id                  31.0     44.00     59.000000  \n",
       "item_category_id         35.0     55.00     83.000000  \n",
       "item_id                6457.0  12551.00  22088.000000  \n",
       "monthly_average_price   649.0   1149.00   9305.121212  \n",
       "monthly_sales             5.0      9.00     30.000000  "
      ]
     },
     "execution_count": 117,
     "metadata": {},
     "output_type": "execute_result"
    }
   ],
   "source": [
    "df0.describe().T # resumen estadístico columnas numéricas"
   ]
  },
  {
   "cell_type": "markdown",
   "id": "b6922bcf",
   "metadata": {},
   "source": [
    "## 1.3 Duplicate Analysis"
   ]
  },
  {
   "cell_type": "code",
   "execution_count": 118,
   "id": "083b5c65",
   "metadata": {},
   "outputs": [
    {
     "name": "stdout",
     "output_type": "stream",
     "text": [
      "Duplicados exactos en todo el dataframe: 0\n",
      "Duplicados por (unique_id, date): 0\n",
      "✅ No hay duplicados por clave lógica.\n"
     ]
    }
   ],
   "source": [
    "# 1️⃣ Duplicados exactos\n",
    "duplicates_total = df0.duplicated().sum()\n",
    "print(f\"Duplicados exactos en todo el dataframe: {duplicates_total}\")\n",
    "\n",
    "# 2️⃣ Duplicados por clave lógica (unique_id + date)\n",
    "dup_key = df0.duplicated(subset=[\"unique_id\", \"date\"]).sum()\n",
    "print(f\"Duplicados por (unique_id, date): {dup_key}\")\n",
    "\n",
    "# 3️⃣ Si existen, inspeccionamos algunos\n",
    "if dup_key > 0:\n",
    "    display(df0[df0.duplicated(subset=[\"unique_id\", \"date\"], keep=False)].sort_values([\"unique_id\", \"date\"]).head(10))\n",
    "else:\n",
    "    print(\"✅ No hay duplicados por clave lógica.\")\n"
   ]
  },
  {
   "cell_type": "markdown",
   "id": "bb457634",
   "metadata": {},
   "source": [
    "📌 Conclusión – Sección 1.3 (Duplicate Analysis)\n",
    "\n",
    "Durante el análisis de duplicados se comprobó que el dataset no presenta registros repetidos, ni de forma exacta (mismo contenido en todas las columnas), ni por su clave lógica compuesta por unique_id y date, que representa la combinación única de serie temporal y mes.\n",
    "Esto significa que:\n",
    "- Cada observación del dataset corresponde a un único par (serie temporal, fecha), sin inconsistencias ni redundancias.\n",
    "- No es necesario realizar limpieza o consolidación de filas duplicadas.\n",
    "- Se garantiza la integridad temporal y relacional de los datos, lo cual es fundamental para los pasos posteriores de análisis, feature engineering y modelado.\n",
    "\n",
    "✅ Conclusión: el dataset está libre de duplicados y listo para continuar con el análisis de valores nulos y calidad de datos."
   ]
  },
  {
   "cell_type": "markdown",
   "id": "cafdc34e",
   "metadata": {},
   "source": [
    "## 1.4 Null Value Analysis"
   ]
  },
  {
   "cell_type": "code",
   "execution_count": 119,
   "id": "83438814",
   "metadata": {},
   "outputs": [
    {
     "name": "stdout",
     "output_type": "stream",
     "text": [
      "Análisis de valores nulos e información básica por columna\n",
      "\n",
      "Total de columnas con valores nulos: 2\n"
     ]
    },
    {
     "data": {
      "text/html": [
       "<div>\n",
       "<style scoped>\n",
       "    .dataframe tbody tr th:only-of-type {\n",
       "        vertical-align: middle;\n",
       "    }\n",
       "\n",
       "    .dataframe tbody tr th {\n",
       "        vertical-align: top;\n",
       "    }\n",
       "\n",
       "    .dataframe thead th {\n",
       "        text-align: right;\n",
       "    }\n",
       "</style>\n",
       "<table border=\"1\" class=\"dataframe\">\n",
       "  <thead>\n",
       "    <tr style=\"text-align: right;\">\n",
       "      <th></th>\n",
       "      <th>Columna</th>\n",
       "      <th>N Nulos</th>\n",
       "      <th>% Nulos</th>\n",
       "      <th>N Valores Únicos</th>\n",
       "      <th>% Moda</th>\n",
       "      <th>Valor Moda</th>\n",
       "    </tr>\n",
       "  </thead>\n",
       "  <tbody>\n",
       "    <tr>\n",
       "      <th>1</th>\n",
       "      <td>monthly_average_price</td>\n",
       "      <td>1222</td>\n",
       "      <td>8.44</td>\n",
       "      <td>2383</td>\n",
       "      <td>7.75</td>\n",
       "      <td>299.0</td>\n",
       "    </tr>\n",
       "    <tr>\n",
       "      <th>2</th>\n",
       "      <td>monthly_sales</td>\n",
       "      <td>728</td>\n",
       "      <td>5.03</td>\n",
       "      <td>31</td>\n",
       "      <td>12.32</td>\n",
       "      <td>2.0</td>\n",
       "    </tr>\n",
       "  </tbody>\n",
       "</table>\n",
       "</div>"
      ],
      "text/plain": [
       "                 Columna  N Nulos  % Nulos  N Valores Únicos  % Moda  \\\n",
       "1  monthly_average_price     1222     8.44              2383    7.75   \n",
       "2          monthly_sales      728     5.03                31   12.32   \n",
       "\n",
       "  Valor Moda  \n",
       "1      299.0  \n",
       "2        2.0  "
      ]
     },
     "metadata": {},
     "output_type": "display_data"
    }
   ],
   "source": [
    "print(\"Análisis de valores nulos e información básica por columna\\n\")\n",
    "\n",
    "null_count = df0.isna().sum()\n",
    "null_pct   = (null_count / len(df0) * 100).round(2)\n",
    "nunique_no_na = df0.nunique(dropna=True)\n",
    "\n",
    "def safe_mode(s):\n",
    "    try:\n",
    "        m = s.mode(dropna=True)\n",
    "        return m.iloc[0] if len(m) else None\n",
    "    except Exception:\n",
    "        return None\n",
    "\n",
    "modes = df0.apply(safe_mode)\n",
    "mode_pct = df0.apply(lambda s: ((s == safe_mode(s)).mean() * 100) if s.notna().any() else None)\n",
    "mode_pct = mode_pct.round(2)\n",
    "\n",
    "resumen = (\n",
    "    pd.DataFrame({\n",
    "        \"N Nulos\": null_count,\n",
    "        \"% Nulos\": null_pct,\n",
    "        \"N Valores Únicos\": nunique_no_na,\n",
    "        \"% Moda\": mode_pct,\n",
    "        \"Valor Moda\": modes\n",
    "    })\n",
    "    .sort_values(\"N Nulos\", ascending=False)\n",
    ")\n",
    "\n",
    "resumen_filtrado = resumen[resumen[\"N Nulos\"] > 0].copy()\n",
    "resumen_filtrado.index.name = \"Columna\"\n",
    "resumen_filtrado.reset_index(inplace=True)\n",
    "resumen_filtrado.index = resumen_filtrado.index + 1\n",
    "\n",
    "print(f\"Total de columnas con valores nulos: {resumen_filtrado.shape[0]}\")\n",
    "display(resumen_filtrado.head(25))\n"
   ]
  },
  {
   "cell_type": "markdown",
   "id": "3ef8599e",
   "metadata": {},
   "source": [
    "📌 Conclusión – Sección 1.4 (Null Value Analysis)\n"
   ]
  },
  {
   "cell_type": "markdown",
   "id": "1c61e56c",
   "metadata": {},
   "source": [
    "## 1.5 Perfilado temporal por serie\n",
    "\n",
    "Objetivo: entender cómo se comporta cada unique_id a lo largo del tiempo (tendencia, estacionalidad, zeros, faltantes) y confirmar que el horizonte de predicción es Oct-2015 con ventas faltantes (lo que vamos a predecir).\n",
    "\n",
    "### 1.5.1 Comprobaciones temporales clave"
   ]
  },
  {
   "cell_type": "code",
   "execution_count": 120,
   "id": "95ddf5ed",
   "metadata": {},
   "outputs": [
    {
     "data": {
      "text/html": [
       "<div>\n",
       "<style scoped>\n",
       "    .dataframe tbody tr th:only-of-type {\n",
       "        vertical-align: middle;\n",
       "    }\n",
       "\n",
       "    .dataframe tbody tr th {\n",
       "        vertical-align: top;\n",
       "    }\n",
       "\n",
       "    .dataframe thead th {\n",
       "        text-align: right;\n",
       "    }\n",
       "</style>\n",
       "<table border=\"1\" class=\"dataframe\">\n",
       "  <thead>\n",
       "    <tr style=\"text-align: right;\">\n",
       "      <th></th>\n",
       "      <th>unique_id</th>\n",
       "      <th>n_rows</th>\n",
       "      <th>first_date</th>\n",
       "      <th>last_date</th>\n",
       "      <th>n_nan_sales</th>\n",
       "      <th>n_nan_price</th>\n",
       "      <th>zero_share</th>\n",
       "    </tr>\n",
       "  </thead>\n",
       "  <tbody>\n",
       "    <tr>\n",
       "      <th>0</th>\n",
       "      <td>12_11365</td>\n",
       "      <td>34</td>\n",
       "      <td>2013-01-31</td>\n",
       "      <td>2015-10-31</td>\n",
       "      <td>1</td>\n",
       "      <td>1</td>\n",
       "      <td>0.029412</td>\n",
       "    </tr>\n",
       "    <tr>\n",
       "      <th>1</th>\n",
       "      <td>12_11369</td>\n",
       "      <td>34</td>\n",
       "      <td>2013-01-31</td>\n",
       "      <td>2015-10-31</td>\n",
       "      <td>1</td>\n",
       "      <td>1</td>\n",
       "      <td>0.029412</td>\n",
       "    </tr>\n",
       "    <tr>\n",
       "      <th>2</th>\n",
       "      <td>12_11370</td>\n",
       "      <td>34</td>\n",
       "      <td>2013-01-31</td>\n",
       "      <td>2015-10-31</td>\n",
       "      <td>1</td>\n",
       "      <td>1</td>\n",
       "      <td>0.029412</td>\n",
       "    </tr>\n",
       "    <tr>\n",
       "      <th>3</th>\n",
       "      <td>12_11373</td>\n",
       "      <td>34</td>\n",
       "      <td>2013-01-31</td>\n",
       "      <td>2015-10-31</td>\n",
       "      <td>1</td>\n",
       "      <td>1</td>\n",
       "      <td>0.029412</td>\n",
       "    </tr>\n",
       "    <tr>\n",
       "      <th>4</th>\n",
       "      <td>12_12231</td>\n",
       "      <td>34</td>\n",
       "      <td>2013-01-31</td>\n",
       "      <td>2015-10-31</td>\n",
       "      <td>1</td>\n",
       "      <td>2</td>\n",
       "      <td>0.058824</td>\n",
       "    </tr>\n",
       "  </tbody>\n",
       "</table>\n",
       "</div>"
      ],
      "text/plain": [
       "  unique_id  n_rows first_date  last_date  n_nan_sales  n_nan_price  \\\n",
       "0  12_11365      34 2013-01-31 2015-10-31            1            1   \n",
       "1  12_11369      34 2013-01-31 2015-10-31            1            1   \n",
       "2  12_11370      34 2013-01-31 2015-10-31            1            1   \n",
       "3  12_11373      34 2013-01-31 2015-10-31            1            1   \n",
       "4  12_12231      34 2013-01-31 2015-10-31            1            2   \n",
       "\n",
       "   zero_share  \n",
       "0    0.029412  \n",
       "1    0.029412  \n",
       "2    0.029412  \n",
       "3    0.029412  \n",
       "4    0.058824  "
      ]
     },
     "metadata": {},
     "output_type": "display_data"
    },
    {
     "name": "stdout",
     "output_type": "stream",
     "text": [
      "NaN de ventas en Oct-2015: 426\n",
      "NaN de ventas FUERA de Oct-2015: 302\n",
      "¿Existe Sep-2015 en el dataset?: True\n",
      "Series que NO alcanzan Sep-2015: 0\n"
     ]
    }
   ],
   "source": [
    "# A) Partimos SIEMPRE de df0 (raw, solo lectura)\n",
    "assert set(df0.columns) == {'Unnamed: 0','date','unique_id','city_id','shop_id',\n",
    "                            'item_category_id','item_id','monthly_average_price','monthly_sales'}, \\\n",
    "       \"df0 no tiene las columnas esperadas. Revisa carga.\"\n",
    "\n",
    "# B) df1 = df0 tipado y ordenado temporalmente (primer estado 'limpio')\n",
    "df1 = df0.copy()\n",
    "df1['date'] = pd.to_datetime(df1['date'])\n",
    "df1 = df1.sort_values(['unique_id','date'], kind='stable')\n",
    "\n",
    "# C) Cobertura temporal por serie (sobre df1)\n",
    "per_serie = (df1\n",
    "    .groupby('unique_id')\n",
    "    .agg(\n",
    "        n_rows=('date','size'),\n",
    "        first_date=('date','min'),\n",
    "        last_date=('date','max'),\n",
    "        n_nan_sales=('monthly_sales', lambda s: s.isna().sum()),\n",
    "        n_nan_price=('monthly_average_price', lambda s: s.isna().sum()),\n",
    "        zero_share=('monthly_sales', lambda s: (s.fillna(0)==0).mean())\n",
    "    )\n",
    "    .reset_index()\n",
    ")\n",
    "display(per_serie.head())\n",
    "\n",
    "# D) NaNs de ventas: ¿están en Oct-2015?\n",
    "mask_oct = df1['date'].dt.to_period('M') == pd.Period('2015-10')\n",
    "print(\"NaN de ventas en Oct-2015:\", df1.loc[mask_oct, 'monthly_sales'].isna().sum())\n",
    "print(\"NaN de ventas FUERA de Oct-2015:\", df1.loc[~mask_oct, 'monthly_sales'].isna().sum())\n",
    "\n",
    "# E) ¿Tenemos Sep-2015 para validación?\n",
    "has_sep = (df1['date'].dt.to_period('M') == pd.Period('2015-09')).any()\n",
    "print(\"¿Existe Sep-2015 en el dataset?:\", bool(has_sep))\n",
    "\n",
    "# F) Series que NO llegan a Sep-2015\n",
    "last_by_id = df1.groupby('unique_id')['date'].max().dt.to_period('M')\n",
    "ids_missing_sep = last_by_id[last_by_id < pd.Period('2015-09')].index.tolist()\n",
    "print(\"Series que NO alcanzan Sep-2015:\", len(ids_missing_sep))"
   ]
  },
  {
   "cell_type": "code",
   "execution_count": null,
   "id": "0d43b2e9",
   "metadata": {},
   "outputs": [
    {
     "name": "stdout",
     "output_type": "stream",
     "text": [
      "\n",
      "NaN en y durante Sep-2015: 0\n",
      "\n",
      "NaNs de y por mes (excluyendo Oct-2015):\n"
     ]
    },
    {
     "data": {
      "text/plain": [
       "yyyymm\n",
       "2013-01    133\n",
       "2013-02     96\n",
       "2013-03     47\n",
       "2013-04     26\n",
       "2013-05      0\n",
       "2013-06      0\n",
       "2013-07      0\n",
       "2013-08      0\n",
       "2013-09      0\n",
       "2013-10      0\n",
       "2013-11      0\n",
       "2013-12      0\n",
       "2014-01      0\n",
       "2014-02      0\n",
       "2014-03      0\n",
       "2014-04      0\n",
       "2014-05      0\n",
       "2014-06      0\n",
       "2014-07      0\n",
       "2014-08      0\n",
       "2014-09      0\n",
       "2014-10      0\n",
       "2014-11      0\n",
       "2014-12      0\n",
       "2015-01      0\n",
       "2015-02      0\n",
       "2015-03      0\n",
       "2015-04      0\n",
       "2015-05      0\n",
       "2015-06      0\n",
       "2015-07      0\n",
       "2015-08      0\n",
       "2015-09      0\n",
       "Freq: M, Name: monthly_sales, dtype: int64"
      ]
     },
     "metadata": {},
     "output_type": "display_data"
    },
    {
     "data": {
      "image/png": "[encoded data removed]",
      "text/plain": [
       "<Figure size 1000x300 with 1 Axes>"
      ]
     },
     "metadata": {},
     "output_type": "display_data"
    },
    {
     "data": {
      "image/png": "[encoded data removed]",
      "text/plain": [
       "<Figure size 1000x300 with 1 Axes>"
      ]
     },
     "metadata": {},
     "output_type": "display_data"
    },
    {
     "name": "stdout",
     "output_type": "stream",
     "text": [
      "\n",
      "Top series con más NaNs de y (fuera de Oct-2015):\n"
     ]
    },
    {
     "data": {
      "text/plain": [
       "unique_id\n",
       "55_15077    4\n",
       "55_11272    4\n",
       "21_20949    4\n",
       "57_6497     4\n",
       "46_20949    4\n",
       "5_20949     4\n",
       "24_20949    4\n",
       "45_20949    4\n",
       "55_838      4\n",
       "55_798      4\n",
       "Name: monthly_sales, dtype: int64"
      ]
     },
     "metadata": {},
     "output_type": "display_data"
    },
    {
     "data": {
      "image/png": "[encoded data removed]",
      "text/plain": [
       "<Figure size 1200x900 with 1 Axes>"
      ]
     },
     "metadata": {},
     "output_type": "display_data"
    },
    {
     "name": "stdout",
     "output_type": "stream",
     "text": [
      "\n",
      "--- Resumen para Interpretación ---\n",
      "- Series totales: 426\n",
      "- NaN en y en Oct-2015 (test): 426  (esperado ≈ nº de series)\n",
      "- NaN en y fuera de Oct-2015: 302  (~2.15% de las filas de entrenamiento)\n",
      "- ¿Hay NaNs en Sep-2015?: NO\n"
     ]
    }
   ],
   "source": [
    "\n",
    "# -- Checks rápidos complementarios\n",
    "\n",
    "# G) NaNs en Sep-2015\n",
    "is_sep = df1['date'].dt.to_period('M') == pd.Period('2015-09')\n",
    "nan_sep = df1.loc[is_sep, 'monthly_sales'].isna().sum()\n",
    "print(\"\\nNaN en y durante Sep-2015:\", nan_sep)\n",
    "if nan_sep > 0:\n",
    "    bad_ids = df1.loc[is_sep & df1['monthly_sales'].isna(), 'unique_id'].unique()\n",
    "    print(\"Series con y NaN en Sep-2015:\", len(bad_ids))\n",
    "    print(list(bad_ids)[:10], \"...\")\n",
    "\n",
    "# H) Distribución de NaNs de y fuera de Oct-2015\n",
    "nan_by_month = (df1.loc[~mask_oct]\n",
    "                  .assign(yyyymm=lambda x: x['date'].dt.to_period('M'))\n",
    "                  .groupby('yyyymm')['monthly_sales']\n",
    "                  .apply(lambda s: s.isna().sum())\n",
    "                  .astype(int))\n",
    "\n",
    "nan_by_id = (df1.loc[~mask_oct]\n",
    "               .groupby('unique_id')['monthly_sales']\n",
    "               .apply(lambda s: s.isna().sum())\n",
    "               .sort_values(ascending=False))\n",
    "\n",
    "print(\"\\nNaNs de y por mes (excluyendo Oct-2015):\")\n",
    "display(nan_by_month)\n",
    "\n",
    "# H.Viz1a) Línea de NaNs de ventas por mes (excluyendo Oct-2015)\n",
    "fig, ax = plt.subplots(figsize=(10, 3))\n",
    "ax.plot(nan_by_month.index.to_timestamp(), nan_by_month.values, marker='o')\n",
    "ax.set_title(\"NaNs de 'monthly_sales' por mes (excluyendo Oct-2015)\")\n",
    "ax.set_xlabel(\"Mes\")\n",
    "ax.set_ylabel(\"Nº de NaNs\")\n",
    "ax.grid(True)\n",
    "plt.tight_layout()\n",
    "plt.show()\n",
    "\n",
    "# H.Viz1b) Línea de NaNs de price por mes (excluyendo Oct-2015)\n",
    "mask_oct = df1['date'].dt.to_period('M') == pd.Period('2015-10')\n",
    "\n",
    "nan_price_by_month = (df1.loc[~mask_oct]\n",
    "                        .assign(yyyymm=lambda x: x['date'].dt.to_period('M'))\n",
    "                        .groupby('yyyymm')['monthly_average_price']\n",
    "                        .apply(lambda s: s.isna().sum())\n",
    "                        .astype(int))\n",
    "\n",
    "plt.figure(figsize=(10,3))\n",
    "plt.plot(nan_price_by_month.index.to_timestamp(), nan_price_by_month.values, marker='o')\n",
    "plt.title(\"NaNs de 'monthly_average_price' por mes (excluyendo Oct-2015)\")\n",
    "plt.xlabel(\"Mes\"); plt.ylabel(\"Nº de NaNs\"); plt.grid(True); plt.tight_layout(); plt.show()\n",
    "\n",
    "\n",
    "print(\"\\nTop series con más NaNs de y (fuera de Oct-2015):\")\n",
    "display(nan_by_id.head(10))\n",
    "\n",
    "# H.Viz2) Heatmap de presencia de NaNs por serie y mes (excl. Oct)\n",
    "tmp = (df1.loc[~mask_oct]\n",
    "         .assign(yyyymm=lambda x: x['date'].dt.to_period('M'),\n",
    "                 is_nan=lambda x: x['monthly_sales'].isna().astype(int)))\n",
    "\n",
    "# matriz binaria: filas=series, columnas=mes, valor=1 si hay NaN en ese mes\n",
    "mat = (tmp\n",
    "       .pivot_table(index='unique_id',\n",
    "                    columns='yyyymm',\n",
    "                    values='is_nan',\n",
    "                    aggfunc='max',  # por si hubiera duplicados, con 1 basta\n",
    "                    fill_value=0)\n",
    "       .sort_index(axis=1))  # ordenar columnas por tiempo\n",
    "\n",
    "# nos quedamos con series que tengan algún NaN (y las ordenamos por nº de NaNs desc)\n",
    "mat_any = mat.loc[mat.sum(axis=1) > 0]\n",
    "mat_any = mat_any.assign(total_nan=mat_any.sum(axis=1)) \\\n",
    "                 .sort_values('total_nan', ascending=False) \\\n",
    "                 .drop(columns='total_nan')\n",
    "\n",
    "# para no hacer un póster, mostramos top-N series con más NaNs\n",
    "TOP_N = 60  # podemos subir/bajar este número\n",
    "mat_top = mat_any.head(TOP_N)\n",
    "\n",
    "plt.figure(figsize=(12, max(6, TOP_N*0.15)))\n",
    "sns.heatmap(mat_top, cmap=\"Reds\", cbar=False)  # 1=NaN (rojo), 0=ok (blanco)\n",
    "plt.title(f\"Presencia de NaNs en 'monthly_sales' por serie y mes (Top {TOP_N})\\n(excluyendo Oct-2015)\")\n",
    "plt.xlabel(\"Mes\")\n",
    "plt.ylabel(\"unique_id (series)\")\n",
    "plt.tight_layout()\n",
    "plt.show()\n",
    "\n",
    "# I) Mini resumen para Interpretación\n",
    "n_series = df1['unique_id'].nunique()\n",
    "n_oct_nans = df1.loc[mask_oct, 'monthly_sales'].isna().sum()\n",
    "n_non_oct_nans = df1.loc[~mask_oct, 'monthly_sales'].isna().sum()\n",
    "total_rows = len(df1)\n",
    "rows_oct = mask_oct.sum()\n",
    "rows_non_oct = total_rows - rows_oct\n",
    "pct_non_oct = 100 * n_non_oct_nans / max(rows_non_oct,1)\n",
    "\n",
    "print(\"\\n--- Resumen para Interpretación ---\")\n",
    "print(f\"- Series totales: {n_series}\")\n",
    "print(f\"- NaN en y en Oct-2015 (test): {n_oct_nans}  (esperado ≈ nº de series)\")\n",
    "print(f\"- NaN en y fuera de Oct-2015: {n_non_oct_nans}  (~{pct_non_oct:.2f}% de las filas de entrenamiento)\")\n",
    "print(f\"- ¿Hay NaNs en Sep-2015?: {'SÍ' if nan_sep>0 else 'NO'}\")\n"
   ]
  },
  {
   "cell_type": "markdown",
   "id": "1a76edaf",
   "metadata": {},
   "source": [
    "🧠 Sugerencia de convención rápida para el resto del proyecto\n",
    "- df0: raw (solo lectura).\n",
    "- df1: tipado/ordenado, columnas renombradas mínimas (p.ej. luego date→ds, monthly_sales→y).\n",
    "- df2: limpieza básica (drop Unnamed: 0, filtrados), sin leakage.\n",
    "- df3: features (lags/rollings/calendario).\n",
    "- train/valid/test: splits derivados de df3.\n",
    "Así, si en un punto algo “se rompe”, volvemos un escalón sin tocar df0."
   ]
  },
  {
   "cell_type": "markdown",
   "id": "7933215f",
   "metadata": {},
   "source": [
    "🔎 Interpretación – Sección 1.5.1 (Comprobaciones temporales clave)\n",
    "\n",
    "1. Cobertura temporal por serie\n",
    "- Todas las series tienen 34 filas (Ene-2013 → Oct-2015) - Ideal👍: no hay series cortas ni “series que no alcanzan Sep-2015”.\n",
    "- Implica que el horizon de predicción es exactamente 1 mes (Oct-2015) para todas las series.\n",
    "2. NaNs en monthly_sales (target)\n",
    "- Oct-2015: 426 NaNs → coincide con el nº de unique_id (14484 filas / 34 meses = 426 series) - ✔️ Esto confirma que Oct-2015 es el test (lo que hay que predecir) para todas las series.\n",
    "- Fuera de Oct-2015: 302 NaNs → es ~2.1% de las observaciones de entrenamiento (302 / (14484-426) ≈ 2.15%) - Es poco y no debería comprometer el tamaño de train.\n",
    "\n",
    "💡 Decisión práctica (recomendada):\n",
    "- No imputar 'y' en train. Simplemente excluir esas filas con 'y' NaN siempre que no sean Sep-2015. Así evitamos introducir sesgos artificiales (convertir “desconocido” en cero puede falsear la distribución).\n",
    "- Verificar que Sep-2015 no tenga NaNs en 'y'. Si existiera alguno, esa serie quedaría sin validación; ahi puedemos: (a) excluir solo esa observación de validación, o (b) excluir temporalmente esa serie del cálculo de métricas de validación.\n",
    "\n",
    "3. NaNs en monthly_average_price (exógena)\n",
    "- Es normal ver algún NaN (n_nan_price=1–2) - No usar el price contemporáneo en Oct-2015 para predecir (no se conocerá en producción).\n",
    "- Plan: imputar solo en lags (FFill/BFill por serie) y construir features con price_lag{k} (nunca price_t para Oct-2015) - Evita leakage.\n",
    "4. Zeros y estructura de la demanda\n",
    "- zero_share bajo en nuestras muestras (3–6%), pero a revisar distribución global. Series con muchos ceros o alta varianza pedirán robustez (clipping por IQR, pérdidas tipo MAE, etc.). Lo afinamos en la parte de feature engineering y modelos. ***\n",
    "\n",
    "📌 Conclusión operativa:\n",
    "\n",
    "- Dataset bien formado (34 pasos por serie, horizonte claro).\n",
    "- Estrategia segura:\n",
    "    - Quitar filas de train con y NaN (excepto Oct-2015, que se queda como test).\n",
    "    - Imputar solo lags de price (no el contemporáneo) y generar lags/rollings de 'y'.\n",
    "    - Confirmar que Sep-2015 está completo para validar con RMSE sin contaminación temporal."
   ]
  }
 ],
 "metadata": {
  "kernelspec": {
   "display_name": ".venv",
   "language": "python",
   "name": "python3"
  },
  "language_info": {
   "codemirror_mode": {
    "name": "ipython",
    "version": 3
   },
   "file_extension": ".py",
   "mimetype": "text/x-python",
   "name": "python",
   "nbconvert_exporter": "python",
   "pygments_lexer": "ipython3",
   "version": "3.11.13"
  }
 },
 "nbformat": 4,
 "nbformat_minor": 5
}
