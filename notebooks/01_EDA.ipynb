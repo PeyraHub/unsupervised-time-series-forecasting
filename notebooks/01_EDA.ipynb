{
 "cells": [
  {
   "cell_type": "markdown",
   "id": "d5e1bba6",
   "metadata": {},
   "source": [
    "# 1. Exploratory Data Analysis (EDA)"
   ]
  },
  {
   "cell_type": "markdown",
   "id": "3e83e0fc",
   "metadata": {},
   "source": [
    "## 1.1 LOAD DATA"
   ]
  },
  {
   "cell_type": "code",
   "execution_count": 43,
   "id": "4c9584a6",
   "metadata": {},
   "outputs": [],
   "source": [
    "# Libraries\n",
    "# -- Stdlib & setup\n",
    "import os, sys, warnings, json, re\n",
    "from pathlib import Path\n",
    "from datetime import datetime\n",
    "warnings.filterwarnings(\"ignore\")\n",
    "# -- Ciencia de datos base\n",
    "import numpy as np\n",
    "import pandas as pd\n",
    "from scipy import stats as ss\n",
    "# -- Visualización\n",
    "import matplotlib.pyplot as plt\n",
    "import seaborn as sns\n",
    "#  -- Interactivas (opcional; idk si las usaremos pero jic)\n",
    "import plotly.express as px\n",
    "import plotly.graph_objects as go\n",
    "# --- Utilidades\n",
    "from IPython.display import display\n",
    "from tqdm import tqdm\n",
    "import joblib"
   ]
  },
  {
   "cell_type": "code",
   "execution_count": 44,
   "id": "aa6916d4",
   "metadata": {},
   "outputs": [],
   "source": [
    "raw = pd.read_csv(\"../data/train_timeseries.csv\")\n",
    "df0 = raw.copy() # copia de seguridad"
   ]
  },
  {
   "cell_type": "markdown",
   "id": "e74957fa",
   "metadata": {},
   "source": [
    "## 1.2 STRUCTURE"
   ]
  },
  {
   "cell_type": "code",
   "execution_count": 45,
   "id": "fdb7b315",
   "metadata": {},
   "outputs": [
    {
     "data": {
      "text/html": [
       "<div>\n",
       "<style scoped>\n",
       "    .dataframe tbody tr th:only-of-type {\n",
       "        vertical-align: middle;\n",
       "    }\n",
       "\n",
       "    .dataframe tbody tr th {\n",
       "        vertical-align: top;\n",
       "    }\n",
       "\n",
       "    .dataframe thead th {\n",
       "        text-align: right;\n",
       "    }\n",
       "</style>\n",
       "<table border=\"1\" class=\"dataframe\">\n",
       "  <thead>\n",
       "    <tr style=\"text-align: right;\">\n",
       "      <th></th>\n",
       "      <th>Unnamed: 0</th>\n",
       "      <th>date</th>\n",
       "      <th>unique_id</th>\n",
       "      <th>city_id</th>\n",
       "      <th>shop_id</th>\n",
       "      <th>item_category_id</th>\n",
       "      <th>item_id</th>\n",
       "      <th>monthly_average_price</th>\n",
       "      <th>monthly_sales</th>\n",
       "    </tr>\n",
       "  </thead>\n",
       "  <tbody>\n",
       "    <tr>\n",
       "      <th>0</th>\n",
       "      <td>0</td>\n",
       "      <td>2013-01-31</td>\n",
       "      <td>12_11365</td>\n",
       "      <td>16</td>\n",
       "      <td>12</td>\n",
       "      <td>9</td>\n",
       "      <td>11365</td>\n",
       "      <td>1511.512626</td>\n",
       "      <td>30.0</td>\n",
       "    </tr>\n",
       "    <tr>\n",
       "      <th>1</th>\n",
       "      <td>1</td>\n",
       "      <td>2013-01-31</td>\n",
       "      <td>12_11369</td>\n",
       "      <td>16</td>\n",
       "      <td>12</td>\n",
       "      <td>9</td>\n",
       "      <td>11369</td>\n",
       "      <td>572.715278</td>\n",
       "      <td>30.0</td>\n",
       "    </tr>\n",
       "    <tr>\n",
       "      <th>2</th>\n",
       "      <td>2</td>\n",
       "      <td>2013-01-31</td>\n",
       "      <td>12_11370</td>\n",
       "      <td>16</td>\n",
       "      <td>12</td>\n",
       "      <td>9</td>\n",
       "      <td>11370</td>\n",
       "      <td>699.776786</td>\n",
       "      <td>30.0</td>\n",
       "    </tr>\n",
       "    <tr>\n",
       "      <th>3</th>\n",
       "      <td>3</td>\n",
       "      <td>2013-01-31</td>\n",
       "      <td>12_11373</td>\n",
       "      <td>16</td>\n",
       "      <td>12</td>\n",
       "      <td>9</td>\n",
       "      <td>11373</td>\n",
       "      <td>548.900000</td>\n",
       "      <td>6.0</td>\n",
       "    </tr>\n",
       "    <tr>\n",
       "      <th>4</th>\n",
       "      <td>4</td>\n",
       "      <td>2013-01-31</td>\n",
       "      <td>12_12231</td>\n",
       "      <td>16</td>\n",
       "      <td>12</td>\n",
       "      <td>49</td>\n",
       "      <td>12231</td>\n",
       "      <td>350.000000</td>\n",
       "      <td>3.0</td>\n",
       "    </tr>\n",
       "  </tbody>\n",
       "</table>\n",
       "</div>"
      ],
      "text/plain": [
       "   Unnamed: 0        date unique_id  city_id  shop_id  item_category_id  \\\n",
       "0           0  2013-01-31  12_11365       16       12                 9   \n",
       "1           1  2013-01-31  12_11369       16       12                 9   \n",
       "2           2  2013-01-31  12_11370       16       12                 9   \n",
       "3           3  2013-01-31  12_11373       16       12                 9   \n",
       "4           4  2013-01-31  12_12231       16       12                49   \n",
       "\n",
       "   item_id  monthly_average_price  monthly_sales  \n",
       "0    11365            1511.512626           30.0  \n",
       "1    11369             572.715278           30.0  \n",
       "2    11370             699.776786           30.0  \n",
       "3    11373             548.900000            6.0  \n",
       "4    12231             350.000000            3.0  "
      ]
     },
     "execution_count": 45,
     "metadata": {},
     "output_type": "execute_result"
    }
   ],
   "source": [
    "df0.head() # vista general rápida"
   ]
  },
  {
   "cell_type": "code",
   "execution_count": 46,
   "id": "f2227ef4",
   "metadata": {},
   "outputs": [
    {
     "data": {
      "text/plain": [
       "(14484, 9)"
      ]
     },
     "execution_count": 46,
     "metadata": {},
     "output_type": "execute_result"
    }
   ],
   "source": [
    "df0.shape # dimensión"
   ]
  },
  {
   "cell_type": "code",
   "execution_count": 47,
   "id": "14421130",
   "metadata": {},
   "outputs": [
    {
     "data": {
      "text/plain": [
       "['Unnamed: 0',\n",
       " 'date',\n",
       " 'unique_id',\n",
       " 'city_id',\n",
       " 'shop_id',\n",
       " 'item_category_id',\n",
       " 'item_id',\n",
       " 'monthly_average_price',\n",
       " 'monthly_sales']"
      ]
     },
     "execution_count": 47,
     "metadata": {},
     "output_type": "execute_result"
    }
   ],
   "source": [
    "list(df0.columns)"
   ]
  },
  {
   "cell_type": "code",
   "execution_count": 48,
   "id": "3a893277",
   "metadata": {},
   "outputs": [
    {
     "data": {
      "text/plain": [
       "<bound method DataFrame.info of        Unnamed: 0        date unique_id  city_id  shop_id  item_category_id  \\\n",
       "0               0  2013-01-31  12_11365       16       12                 9   \n",
       "1               1  2013-01-31  12_11369       16       12                 9   \n",
       "2               2  2013-01-31  12_11370       16       12                 9   \n",
       "3               3  2013-01-31  12_11373       16       12                 9   \n",
       "4               4  2013-01-31  12_12231       16       12                49   \n",
       "...           ...         ...       ...      ...      ...               ...   \n",
       "14479       14479  2015-10-31    7_5822       21        7                35   \n",
       "14480       14480  2015-10-31    7_6185       21        7                30   \n",
       "14481       14481  2015-10-31    7_6497       21        7                28   \n",
       "14482       14482  2015-10-31    7_7856       21        7                28   \n",
       "14483       14483  2015-10-31    7_7893       21        7                 6   \n",
       "\n",
       "       item_id  monthly_average_price  monthly_sales  \n",
       "0        11365            1511.512626           30.0  \n",
       "1        11369             572.715278           30.0  \n",
       "2        11370             699.776786           30.0  \n",
       "3        11373             548.900000            6.0  \n",
       "4        12231             350.000000            3.0  \n",
       "...        ...                    ...            ...  \n",
       "14479     5822                    NaN            NaN  \n",
       "14480     6185                    NaN            NaN  \n",
       "14481     6497                    NaN            NaN  \n",
       "14482     7856                    NaN            NaN  \n",
       "14483     7893                    NaN            NaN  \n",
       "\n",
       "[14484 rows x 9 columns]>"
      ]
     },
     "execution_count": 48,
     "metadata": {},
     "output_type": "execute_result"
    }
   ],
   "source": [
    "df0.info # info tipos y nulos"
   ]
  },
  {
   "cell_type": "code",
   "execution_count": 49,
   "id": "6f3e6f27",
   "metadata": {},
   "outputs": [
    {
     "data": {
      "text/plain": [
       "int64      5\n",
       "object     2\n",
       "float64    2\n",
       "Name: count, dtype: int64"
      ]
     },
     "execution_count": 49,
     "metadata": {},
     "output_type": "execute_result"
    }
   ],
   "source": [
    "df0.dtypes.value_counts() # info columnas por tipo"
   ]
  },
  {
   "cell_type": "code",
   "execution_count": 50,
   "id": "68eee76a",
   "metadata": {},
   "outputs": [
    {
     "data": {
      "text/plain": [
       "array([ True, False, False, False, False, False, False, False, False])"
      ]
     },
     "execution_count": 50,
     "metadata": {},
     "output_type": "execute_result"
    }
   ],
   "source": [
    "df0.columns.str.contains('Unnamed') # columnas que contienen 'Unnamed'"
   ]
  },
  {
   "cell_type": "code",
   "execution_count": 51,
   "id": "115f63da",
   "metadata": {},
   "outputs": [
    {
     "data": {
      "text/html": [
       "<div>\n",
       "<style scoped>\n",
       "    .dataframe tbody tr th:only-of-type {\n",
       "        vertical-align: middle;\n",
       "    }\n",
       "\n",
       "    .dataframe tbody tr th {\n",
       "        vertical-align: top;\n",
       "    }\n",
       "\n",
       "    .dataframe thead th {\n",
       "        text-align: right;\n",
       "    }\n",
       "</style>\n",
       "<table border=\"1\" class=\"dataframe\">\n",
       "  <thead>\n",
       "    <tr style=\"text-align: right;\">\n",
       "      <th></th>\n",
       "      <th>count</th>\n",
       "      <th>mean</th>\n",
       "      <th>std</th>\n",
       "      <th>min</th>\n",
       "      <th>25%</th>\n",
       "      <th>50%</th>\n",
       "      <th>75%</th>\n",
       "      <th>max</th>\n",
       "    </tr>\n",
       "  </thead>\n",
       "  <tbody>\n",
       "    <tr>\n",
       "      <th>Unnamed: 0</th>\n",
       "      <td>14484.0</td>\n",
       "      <td>7241.500000</td>\n",
       "      <td>4181.314985</td>\n",
       "      <td>0.000000</td>\n",
       "      <td>3620.75</td>\n",
       "      <td>7241.5</td>\n",
       "      <td>10862.25</td>\n",
       "      <td>14483.000000</td>\n",
       "    </tr>\n",
       "    <tr>\n",
       "      <th>city_id</th>\n",
       "      <td>14484.0</td>\n",
       "      <td>10.833333</td>\n",
       "      <td>6.227364</td>\n",
       "      <td>0.000000</td>\n",
       "      <td>7.00</td>\n",
       "      <td>7.0</td>\n",
       "      <td>16.00</td>\n",
       "      <td>23.000000</td>\n",
       "    </tr>\n",
       "    <tr>\n",
       "      <th>shop_id</th>\n",
       "      <td>14484.0</td>\n",
       "      <td>31.967136</td>\n",
       "      <td>15.236351</td>\n",
       "      <td>3.000000</td>\n",
       "      <td>22.00</td>\n",
       "      <td>31.0</td>\n",
       "      <td>44.00</td>\n",
       "      <td>59.000000</td>\n",
       "    </tr>\n",
       "    <tr>\n",
       "      <th>item_category_id</th>\n",
       "      <td>14484.0</td>\n",
       "      <td>39.356808</td>\n",
       "      <td>20.439654</td>\n",
       "      <td>2.000000</td>\n",
       "      <td>30.00</td>\n",
       "      <td>35.0</td>\n",
       "      <td>55.00</td>\n",
       "      <td>83.000000</td>\n",
       "    </tr>\n",
       "    <tr>\n",
       "      <th>item_id</th>\n",
       "      <td>14484.0</td>\n",
       "      <td>8626.431925</td>\n",
       "      <td>5905.273346</td>\n",
       "      <td>32.000000</td>\n",
       "      <td>4248.00</td>\n",
       "      <td>6457.0</td>\n",
       "      <td>12551.00</td>\n",
       "      <td>22088.000000</td>\n",
       "    </tr>\n",
       "    <tr>\n",
       "      <th>monthly_average_price</th>\n",
       "      <td>13262.0</td>\n",
       "      <td>916.089314</td>\n",
       "      <td>820.945949</td>\n",
       "      <td>4.928571</td>\n",
       "      <td>299.00</td>\n",
       "      <td>649.0</td>\n",
       "      <td>1149.00</td>\n",
       "      <td>9305.121212</td>\n",
       "    </tr>\n",
       "    <tr>\n",
       "      <th>monthly_sales</th>\n",
       "      <td>13756.0</td>\n",
       "      <td>7.337889</td>\n",
       "      <td>7.915032</td>\n",
       "      <td>0.000000</td>\n",
       "      <td>2.00</td>\n",
       "      <td>5.0</td>\n",
       "      <td>9.00</td>\n",
       "      <td>30.000000</td>\n",
       "    </tr>\n",
       "  </tbody>\n",
       "</table>\n",
       "</div>"
      ],
      "text/plain": [
       "                         count         mean          std        min      25%  \\\n",
       "Unnamed: 0             14484.0  7241.500000  4181.314985   0.000000  3620.75   \n",
       "city_id                14484.0    10.833333     6.227364   0.000000     7.00   \n",
       "shop_id                14484.0    31.967136    15.236351   3.000000    22.00   \n",
       "item_category_id       14484.0    39.356808    20.439654   2.000000    30.00   \n",
       "item_id                14484.0  8626.431925  5905.273346  32.000000  4248.00   \n",
       "monthly_average_price  13262.0   916.089314   820.945949   4.928571   299.00   \n",
       "monthly_sales          13756.0     7.337889     7.915032   0.000000     2.00   \n",
       "\n",
       "                          50%       75%           max  \n",
       "Unnamed: 0             7241.5  10862.25  14483.000000  \n",
       "city_id                   7.0     16.00     23.000000  \n",
       "shop_id                  31.0     44.00     59.000000  \n",
       "item_category_id         35.0     55.00     83.000000  \n",
       "item_id                6457.0  12551.00  22088.000000  \n",
       "monthly_average_price   649.0   1149.00   9305.121212  \n",
       "monthly_sales             5.0      9.00     30.000000  "
      ]
     },
     "execution_count": 51,
     "metadata": {},
     "output_type": "execute_result"
    }
   ],
   "source": [
    "df0.describe().T # resumen estadístico columnas numéricas"
   ]
  },
  {
   "cell_type": "code",
   "execution_count": 54,
   "id": "832967c4",
   "metadata": {},
   "outputs": [
    {
     "data": {
      "text/plain": [
       "Unnamed: 0                        int64\n",
       "date                     datetime64[ns]\n",
       "unique_id                        object\n",
       "city_id                           int64\n",
       "shop_id                           int64\n",
       "item_category_id                  int64\n",
       "item_id                           int64\n",
       "monthly_average_price           float64\n",
       "monthly_sales                   float64\n",
       "dtype: object"
      ]
     },
     "execution_count": 54,
     "metadata": {},
     "output_type": "execute_result"
    }
   ],
   "source": [
    "df0.dtypes"
   ]
  }
 ],
 "metadata": {
  "kernelspec": {
   "display_name": ".venv",
   "language": "python",
   "name": "python3"
  },
  "language_info": {
   "codemirror_mode": {
    "name": "ipython",
    "version": 3
   },
   "file_extension": ".py",
   "mimetype": "text/x-python",
   "name": "python",
   "nbconvert_exporter": "python",
   "pygments_lexer": "ipython3",
   "version": "3.11.13"
  }
 },
 "nbformat": 4,
 "nbformat_minor": 5
}
